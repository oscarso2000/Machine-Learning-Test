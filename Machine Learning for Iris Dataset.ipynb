{
 "cells": [
  {
   "cell_type": "code",
   "execution_count": 12,
   "metadata": {},
   "outputs": [],
   "source": [
    "import pandas as pd\n",
    "import numpy as np\n",
    "from sklearn.datasets import load_iris"
   ]
  },
  {
   "cell_type": "code",
   "execution_count": 13,
   "metadata": {},
   "outputs": [
    {
     "ename": "ModuleNotFoundError",
     "evalue": "No module named 'plotly'",
     "output_type": "error",
     "traceback": [
      "\u001b[1;31m---------------------------------------------------------------------------\u001b[0m",
      "\u001b[1;31mModuleNotFoundError\u001b[0m                       Traceback (most recent call last)",
      "\u001b[1;32m<ipython-input-13-187e7ea9cb7c>\u001b[0m in \u001b[0;36m<module>\u001b[1;34m()\u001b[0m\n\u001b[0;32m      1\u001b[0m \u001b[1;32mimport\u001b[0m \u001b[0mmatplotlib\u001b[0m\u001b[1;33m.\u001b[0m\u001b[0mpyplot\u001b[0m \u001b[1;32mas\u001b[0m \u001b[0mplt\u001b[0m\u001b[1;33m\u001b[0m\u001b[0m\n\u001b[0;32m      2\u001b[0m \u001b[1;32mimport\u001b[0m \u001b[0mseaborn\u001b[0m \u001b[1;32mas\u001b[0m \u001b[0msns\u001b[0m\u001b[1;33m\u001b[0m\u001b[0m\n\u001b[1;32m----> 3\u001b[1;33m \u001b[1;32mimport\u001b[0m \u001b[0mplotly\u001b[0m \u001b[1;32mas\u001b[0m \u001b[0mpy\u001b[0m\u001b[1;33m\u001b[0m\u001b[0m\n\u001b[0m\u001b[0;32m      4\u001b[0m \u001b[0mpy\u001b[0m\u001b[1;33m.\u001b[0m\u001b[0moffline\u001b[0m\u001b[1;33m.\u001b[0m\u001b[0minit_notebook_mode\u001b[0m\u001b[1;33m(\u001b[0m\u001b[0mconnected\u001b[0m\u001b[1;33m=\u001b[0m\u001b[1;32mTrue\u001b[0m\u001b[1;33m)\u001b[0m\u001b[1;33m\u001b[0m\u001b[0m\n\u001b[0;32m      5\u001b[0m \u001b[0mget_ipython\u001b[0m\u001b[1;33m(\u001b[0m\u001b[1;33m)\u001b[0m\u001b[1;33m.\u001b[0m\u001b[0mrun_line_magic\u001b[0m\u001b[1;33m(\u001b[0m\u001b[1;34m'matplotlib'\u001b[0m\u001b[1;33m,\u001b[0m \u001b[1;34m'inline'\u001b[0m\u001b[1;33m)\u001b[0m\u001b[1;33m\u001b[0m\u001b[0m\n",
      "\u001b[1;31mModuleNotFoundError\u001b[0m: No module named 'plotly'"
     ]
    }
   ],
   "source": [
    "import matplotlib.pyplot as plt\n",
    "import seaborn as sns\n",
    "import plotly as py\n",
    "py.offline.init_notebook_mode(connected=True)\n",
    "%matplotlib inline"
   ]
  },
  {
   "cell_type": "code",
   "execution_count": null,
   "metadata": {},
   "outputs": [],
   "source": [
    "iris = load_iris()\n",
    "x=iris.data\n",
    "y=iris.target"
   ]
  },
  {
   "cell_type": "code",
   "execution_count": null,
   "metadata": {},
   "outputs": [],
   "source": [
    "data=np.c_[x,y]"
   ]
  },
  {
   "cell_type": "code",
   "execution_count": null,
   "metadata": {},
   "outputs": [],
   "source": [
    "header=['sepal_length','sepal_width','petal_length','petal_width','species']\n",
    "iris_df=pd.DataFrame(data=data,columns=header)"
   ]
  },
  {
   "cell_type": "code",
   "execution_count": null,
   "metadata": {},
   "outputs": [],
   "source": [
    "iris_df.head()"
   ]
  },
  {
   "cell_type": "code",
   "execution_count": null,
   "metadata": {},
   "outputs": [],
   "source": [
    "iris_df.species.replace(0.0,'iris-sesota',inplace=True)\n",
    "iris_df.species.replace(1.0,'iris-versicolor',inplace=True)\n",
    "iris_df.species.replace(2.0,'iris-virginica',inplace=True)"
   ]
  },
  {
   "cell_type": "code",
   "execution_count": null,
   "metadata": {},
   "outputs": [],
   "source": [
    "iris_df.head()"
   ]
  },
  {
   "cell_type": "code",
   "execution_count": null,
   "metadata": {},
   "outputs": [],
   "source": [
    "iris_df.describe()"
   ]
  },
  {
   "cell_type": "code",
   "execution_count": null,
   "metadata": {},
   "outputs": [],
   "source": [
    "import plotly.graph_objs as go"
   ]
  },
  {
   "cell_type": "code",
   "execution_count": null,
   "metadata": {},
   "outputs": [],
   "source": [
    "df1=iris_df.iloc[:50,:]\n",
    "df2=iris_df.iloc[50:100,:]\n",
    "df3=iris_df.iloc[100:150,:]"
   ]
  },
  {
   "cell_type": "code",
   "execution_count": null,
   "metadata": {},
   "outputs": [],
   "source": [
    "trace1 = go.Scatter(\n",
    "    #x=x-axis\n",
    "    x=df1.sepal_length,\n",
    "    #y=y-axis\n",
    "    y=df1.sepal_width,\n",
    "    #mode defines the type of plot eg-lines,markers,line+markers\n",
    "    mode='markers',\n",
    "    #name pf the plots\n",
    "    name='iris-setosa',\n",
    "    #markers->color and alpha of the respective trace\n",
    "    marker=dict(color = 'rgba(255, 128, 2, 0.8)'),\n",
    "    #the hover text\n",
    "    text=df1.species)\n",
    "trace2 = go.Scatter(\n",
    "    x=df2.sepal_length,\n",
    "    y=df2.sepal_width,\n",
    "    mode='markers',\n",
    "    name='iris-versicolor',\n",
    "    marker=dict(color = 'rgba(0, 255, 200, 0.8)'),\n",
    "    text=df2.species)\n",
    "trace3 = go.Scatter(\n",
    "    x=df3.sepal_length,\n",
    "    y=df3.sepal_width,\n",
    "    mode='markers',\n",
    "    name='iris-virginica',\n",
    "    marker=dict(color = 'rgba(255, 128, 255, 0.8)'),\n",
    "    text=df3.species)"
   ]
  },
  {
   "cell_type": "code",
   "execution_count": null,
   "metadata": {},
   "outputs": [],
   "source": [
    "data_list=[trace1,trace2,trace3]"
   ]
  },
  {
   "cell_type": "code",
   "execution_count": null,
   "metadata": {},
   "outputs": [],
   "source": [
    "layout=dict(title='Sepal length and Sepal Width of Species',\n",
    "               xaxis=dict(title='Sepal Length',ticklen=5,zeroline=False),\n",
    "               yaxis=dict(title='Sepal Width',ticklen=5,zeroline=False)\n",
    "            )"
   ]
  },
  {
   "cell_type": "code",
   "execution_count": null,
   "metadata": {},
   "outputs": [],
   "source": [
    "fig=dict(data=data_list,layout=layout)"
   ]
  },
  {
   "cell_type": "code",
   "execution_count": null,
   "metadata": {},
   "outputs": [],
   "source": [
    "py.offline.iplot(fig)"
   ]
  },
  {
   "cell_type": "code",
   "execution_count": null,
   "metadata": {},
   "outputs": [],
   "source": [
    "df1=iris_df.iloc[:50,:]\n",
    "df2=iris_df.iloc[50:100,:]\n",
    "df3=iris_df.iloc[100:150,:]"
   ]
  },
  {
   "cell_type": "code",
   "execution_count": null,
   "metadata": {},
   "outputs": [],
   "source": [
    "trace1 = go.Scatter(\n",
    "    #x=x-axis\n",
    "    x=df1.petal_length,\n",
    "    #y=y-axis\n",
    "    y=df1.petal_width,\n",
    "    #mode defines the type of plot eg-lines,markers,line+markers\n",
    "    mode='markers',\n",
    "    #name pf the plots\n",
    "    name='iris-setosa',\n",
    "    #markers->color and alpha of the respective trace\n",
    "    marker=dict(color = 'rgba(255, 128, 2, 0.8)'),\n",
    "    #the hover text\n",
    "    text=df1.species)\n",
    "trace2 = go.Scatter(\n",
    "    x=df2.petal_length,\n",
    "    y=df2.petal_width,\n",
    "    mode='markers',\n",
    "    name='iris-versicolor',\n",
    "    marker=dict(color = 'rgba(0, 255, 200, 0.8)'),\n",
    "    text=df2.species)\n",
    "trace3 = go.Scatter(\n",
    "    x=df3.petal_length,\n",
    "    y=df3.petal_width,\n",
    "    mode='markers',\n",
    "    name='iris-virginica',\n",
    "    marker=dict(color = 'rgba(255, 128, 255, 0.8)'),\n",
    "    text=df3.species)"
   ]
  },
  {
   "cell_type": "code",
   "execution_count": null,
   "metadata": {},
   "outputs": [],
   "source": [
    "data_list=[trace1,trace2,trace3]"
   ]
  },
  {
   "cell_type": "code",
   "execution_count": null,
   "metadata": {},
   "outputs": [],
   "source": [
    "layout=dict(title='Petal length and Petal Width of Species',\n",
    "               xaxis=dict(title='Petal Length',ticklen=5,zeroline=False),\n",
    "               yaxis=dict(title='Petal Width',ticklen=5,zeroline=False)\n",
    "            )"
   ]
  },
  {
   "cell_type": "code",
   "execution_count": null,
   "metadata": {},
   "outputs": [],
   "source": [
    "fig=dict(data=data_list,layout=layout)\n",
    "py.offline.iplot(fig)"
   ]
  },
  {
   "cell_type": "code",
   "execution_count": null,
   "metadata": {},
   "outputs": [],
   "source": [
    "class Question:\n",
    "    #initialise column and value variables->\n",
    "    #eg->if ques is ->is sepal_length>=1cm then\n",
    "    #sepal_length==col and 1cm=value\n",
    "    def __init__(self,column,value):\n",
    "        self.column=column\n",
    "        self.value=value\n",
    "    #it matches wheter the given data is in accordace with the value set or not\n",
    "    #returns true and false accordingly\n",
    "    def match(self,data):\n",
    "        value=data[self.column]\n",
    "        return value>=self.value\n",
    "    # This is just a helper method to print\n",
    "    # the question in a readable format.\n",
    "    def __repr__(self):\n",
    "        condition = \">=\"\n",
    "        return \"Is %s %s %s?\" % (\n",
    "            header[self.column], condition, str(self.value))"
   ]
  },
  {
   "cell_type": "code",
   "execution_count": null,
   "metadata": {},
   "outputs": [],
   "source": [
    "#count the unique values of labels and store them in a dictionary\n",
    "def count_values(rows):\n",
    "    #will return a dictionary with species values as key and frequency as values\n",
    "    count={}\n",
    "    #takes whole dataset in as argument\n",
    "    for row in  rows:\n",
    "        #traverse on each datapoint\n",
    "        label=row[-1]\n",
    "        #labels are in the last column\n",
    "        #if label is not even once come initialise it\n",
    "        if label not in count:\n",
    "            count[label]=0\n",
    "        #increase the count of present label by 1\n",
    "        count[label]+=1\n",
    "    return count "
   ]
  },
  {
   "cell_type": "code",
   "execution_count": null,
   "metadata": {},
   "outputs": [],
   "source": [
    "#spliting the data based on the respective ques.\n",
    "def partition(rows,question):\n",
    "    #intialise two seprate lists \n",
    "    true_row,false_row=[],[]\n",
    "    for row in rows:\n",
    "        #traverse on each datapoint\n",
    "        #match the given datapoint with the respective question\n",
    "        if question.match(row):\n",
    "            #if question.match returns true aka value is satisfied\n",
    "            #append the given row in true row list\n",
    "            true_row.append(row)\n",
    "        else:\n",
    "            false_row.append(row)\n",
    "    return true_row,false_row"
   ]
  },
  {
   "cell_type": "code",
   "execution_count": null,
   "metadata": {},
   "outputs": [],
   "source": [
    "def gini(rows):\n",
    "    #stores dictionary of frequency of labels\n",
    "    count=count_values(rows)\n",
    "    #initialise impurity as 1\n",
    "    impurity=1\n",
    "    for label in count:\n",
    "        #probablity of a unique label\n",
    "        probab_of_label=count[label]/float(len(rows))\n",
    "        #calculation gini impurity acc to formula\n",
    "        impurity-=probab_of_label**2\n",
    "    return impurity"
   ]
  },
  {
   "cell_type": "code",
   "execution_count": null,
   "metadata": {},
   "outputs": [],
   "source": [
    "def entropy(rows):\n",
    "    #initialise entropy\n",
    "    entropy=0\n",
    "    from math import log\n",
    "    #calculating log(x) in base 2\n",
    "    log2=lambda x:log(x)/log(2)\n",
    "    count=count_values(rows)\n",
    "    #storing and traversing the dictionary\n",
    "    for label in count:\n",
    "        #probablity of each unique label\n",
    "        p=count[label]/float(len(rows))\n",
    "        #calculating entropy\n",
    "        entropy-=p*log2(p)\n",
    "    return entropy"
   ]
  },
  {
   "cell_type": "code",
   "execution_count": null,
   "metadata": {},
   "outputs": [],
   "source": [
    "def info_gain_gini(current,left,right):\n",
    "    #porbab of one branch\n",
    "    p =float(len(left))/len(left)+len(right)\n",
    "    #formula for info gian\n",
    "    return current-p*gini(left)-(1-p)*gini(right)"
   ]
  },
  {
   "cell_type": "code",
   "execution_count": null,
   "metadata": {},
   "outputs": [],
   "source": [
    "def info_gain_entropy(current,left,right):\n",
    "    p =float(len(left))/len(left)+len(right)\n",
    "    return current-p*entropy(left)-(1-p)*entropy(right)"
   ]
  },
  {
   "cell_type": "code",
   "execution_count": 3,
   "metadata": {},
   "outputs": [],
   "source": [
    "def best_split(rows):\n",
    "    #initialise best gain and best question\n",
    "    best_gain=0\n",
    "    best_question=None\n",
    "    #calculate the current_gain\n",
    "    current=gini(rows)\n",
    "    #total number of features\n",
    "    features=len(rows[0])-1\n",
    "    for col in range(features):\n",
    "        #collects all unique classes for a feature\n",
    "        values=set([row[col] for row in rows])\n",
    "        for val in values:\n",
    "            #traverse each unique classs\n",
    "            #ask the corresponding question\n",
    "            question=Question(col,val)\n",
    "            #devide the data based on that ques\n",
    "            true_rows,false_rows=partition(rows,question)\n",
    "            if len(true_rows)==0 or len(false_rows) ==0:\n",
    "                #no use go to next iteration\n",
    "                continue\n",
    "            #calculate corresponding gain\n",
    "            gain=info_gain_gini(current,true_rows,false_rows)\n",
    "            #if gain is > than the best replace\n",
    "            if gain>=best_gain:\n",
    "                best_gain,best_question=gain,question\n",
    "            #iterate through each unique class of each feature and return the best gain and best question     \n",
    "    return best_gain,best_question"
   ]
  },
  {
   "cell_type": "code",
   "execution_count": 4,
   "metadata": {},
   "outputs": [],
   "source": [
    "class DecisionNode:\n",
    "    def __init__(self,question,true_branch,false_branch):\n",
    "        #question object stores col and val variables regarding the question of that node\n",
    "        self.question = question\n",
    "        #this stores the branch that is true\n",
    "        self.true_branch = true_branch\n",
    "        #this stores the false branch\n",
    "        self.false_branch = false_branch"
   ]
  },
  {
   "cell_type": "code",
   "execution_count": 5,
   "metadata": {},
   "outputs": [],
   "source": [
    "class Leaf:\n",
    "    def __init__(self,rows):\n",
    "        #stores unique labels and their values in predictio\n",
    "        self.predictions=count_values(rows)"
   ]
  },
  {
   "cell_type": "code",
   "execution_count": 6,
   "metadata": {},
   "outputs": [],
   "source": [
    "def build_tree(rows):\n",
    "    #takes the whole dataset as argument\n",
    "    #gets the best gain and best question\n",
    "    gain,question=best_split(rows)\n",
    "    \n",
    "    #if gian=0 i.e. leaf conditions are satisfied\n",
    "    if gain==0:\n",
    "        #make a leaf object and return\n",
    "        return Leaf(rows)\n",
    "    # If we reach here, we have found a useful feature / value\n",
    "    # to partition on.\n",
    "    true_rows, false_rows = partition(rows, question)\n",
    "\n",
    "    # Recursively build the true branch.\n",
    "    true_branch = build_tree(true_rows)\n",
    "\n",
    "    # Recursively build the false branch.\n",
    "    false_branch = build_tree(false_rows)\n",
    "\n",
    "    #returns the root question node storing branches as well as the quesiton\n",
    "    return DecisionNode(question, true_branch, false_branch)"
   ]
  },
  {
   "cell_type": "code",
   "execution_count": 7,
   "metadata": {},
   "outputs": [
    {
     "ename": "NameError",
     "evalue": "name 'data' is not defined",
     "output_type": "error",
     "traceback": [
      "\u001b[1;31m---------------------------------------------------------------------------\u001b[0m",
      "\u001b[1;31mNameError\u001b[0m                                 Traceback (most recent call last)",
      "\u001b[1;32m<ipython-input-7-a7de8a1e5a3e>\u001b[0m in \u001b[0;36m<module>\u001b[1;34m()\u001b[0m\n\u001b[1;32m----> 1\u001b[1;33m \u001b[0mtree\u001b[0m\u001b[1;33m=\u001b[0m\u001b[0mbuild_tree\u001b[0m\u001b[1;33m(\u001b[0m\u001b[0mdata\u001b[0m\u001b[1;33m)\u001b[0m\u001b[1;33m\u001b[0m\u001b[0m\n\u001b[0m",
      "\u001b[1;31mNameError\u001b[0m: name 'data' is not defined"
     ]
    }
   ],
   "source": [
    "tree=build_tree(data)"
   ]
  },
  {
   "cell_type": "code",
   "execution_count": 41,
   "metadata": {},
   "outputs": [],
   "source": [
    "def print_tree(node,indentation=\"\"):\n",
    "    '''printing function'''\n",
    "    #base case means we have reached the leaf\n",
    "    #if the node object is of leaf type\n",
    "    if isinstance(node,Leaf):\n",
    "        print(indentation+\"PREDICTION\",node.predictions)\n",
    "        return \n",
    "    #print the question at node\n",
    "    print(indentation + str(node.question))\n",
    "    \n",
    "    #call the function on true branch \n",
    "    print(indentation+ \"True Branch\")\n",
    "    print_tree(node.true_branch,indentation + \" \")\n",
    "    \n",
    "    #on flase branch\n",
    "    print(indentation+ \"False Branch\")\n",
    "    print_tree(node.false_branch,indentation + \" \")"
   ]
  },
  {
   "cell_type": "code",
   "execution_count": 42,
   "metadata": {},
   "outputs": [
    {
     "ename": "NameError",
     "evalue": "name 'tree' is not defined",
     "output_type": "error",
     "traceback": [
      "\u001b[1;31m---------------------------------------------------------------------------\u001b[0m",
      "\u001b[1;31mNameError\u001b[0m                                 Traceback (most recent call last)",
      "\u001b[1;32m<ipython-input-9-163580d9e816>\u001b[0m in \u001b[0;36m<module>\u001b[1;34m()\u001b[0m\n\u001b[1;32m----> 1\u001b[1;33m \u001b[0mprint_tree\u001b[0m\u001b[1;33m(\u001b[0m\u001b[0mtree\u001b[0m\u001b[1;33m)\u001b[0m\u001b[1;33m\u001b[0m\u001b[0m\n\u001b[0m",
      "\u001b[1;31mNameError\u001b[0m: name 'tree' is not defined"
     ]
    }
   ],
   "source": [
    "print_tree(tree)"
   ]
  },
  {
   "cell_type": "code",
   "execution_count": null,
   "metadata": {},
   "outputs": [],
   "source": []
  }
 ],
 "metadata": {
  "kernelspec": {
   "display_name": "Python 3",
   "language": "python",
   "name": "python3"
  },
  "language_info": {
   "codemirror_mode": {
    "name": "ipython",
    "version": 3
   },
   "file_extension": ".py",
   "mimetype": "text/x-python",
   "name": "python",
   "nbconvert_exporter": "python",
   "pygments_lexer": "ipython3",
   "version": "3.6.5"
  }
 },
 "nbformat": 4,
 "nbformat_minor": 2
}
